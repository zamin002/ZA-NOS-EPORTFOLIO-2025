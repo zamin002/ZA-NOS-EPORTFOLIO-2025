{
 "cells": [
  {
   "cell_type": "code",
   "execution_count": null,
   "metadata": {},
   "outputs": [
    {
     "name": "stdout",
     "output_type": "stream",
     "text": [
      "UDP Server is ready to receive API data...\n",
      "Received data from ('127.0.0.1', 51648): hi\n",
      "Received data from ('127.0.0.1', 59567): hey whats up\n",
      "Received data from ('127.0.0.1', 51648): nothing hbu\n",
      "Received data from ('127.0.0.1', 59567): got bound to a wheelchair recently ngl\n",
      "Received data from ('127.0.0.1', 51648): hold that\n"
     ]
    }
   ],
   "source": [
    "#EXAMPLE CODE\n",
    "import socket\n",
    "\n",
    "server_socket = socket.socket(socket.AF_INET, socket.SOCK_DGRAM)\n",
    "server_socket.bind((\"localhost\", 65433))\n",
    "\n",
    "print(\"UDP Server is ready to receive API data...\")\n",
    "\n",
    "while True:\n",
    "    data, client_address = server_socket.recvfrom(2048)\n",
    "    print(f\"Received data from {client_address}: {data.decode()}\")\n",
    "    "
   ]
  },
  {
   "cell_type": "code",
   "execution_count": null,
   "metadata": {},
   "outputs": [
    {
     "name": "stdout",
     "output_type": "stream",
     "text": [
      "UDP Server is ready to receive API data...\n",
      "User1 (('127.0.0.1', 51815)): hi\n",
      "User2 (('127.0.0.1', 56972)): LEAVE ME ALONE \n"
     ]
    }
   ],
   "source": [
    "import socket\n",
    "\n",
    "server_socket = socket.socket(socket.AF_INET, socket.SOCK_DGRAM)\n",
    "server_socket.bind((\"localhost\", 65433))\n",
    "\n",
    "users = {} #dict for IPs & usernames\n",
    "\n",
    "print(\"UDP Server is ready to receive API data...\")\n",
    "\n",
    "while True:\n",
    "    data, client_address = server_socket.recvfrom(2048)\n",
    "    message = data.decode()\n",
    "    \n",
    "    if client_address not in users:\n",
    "        users[client_address] = f\"User{len(users) + 1}\" #assigns default username eg \"user1\" \"user2\" ect. name based on entries in the dict ensures unique identifier\n",
    "    print(f\"{users[client_address]} ({client_address}): {message}\")\n",
    "\n",
    "    reply = input(\"Server: \")\n",
    "    server_socket.sendto(reply.encode(), client_address)\n",
    "    "
   ]
  },
  {
   "cell_type": "code",
   "execution_count": null,
   "metadata": {},
   "outputs": [
    {
     "name": "stdout",
     "output_type": "stream",
     "text": [
      "UDP Server is ready for connections...\n",
      "user1 (('127.0.0.1', 61604)): user1,password123\n",
      "user2 (('127.0.0.1', 55900)): user2,letmein\n"
     ]
    }
   ],
   "source": [
    "#only authenticating users not supposed to message here\n",
    "\n",
    "import socket\n",
    "\n",
    "server_socket = socket.socket(socket.AF_INET, socket.SOCK_DGRAM)\n",
    "server_socket.bind(('localhost', 65433))\n",
    "\n",
    "logins = {\"user1\": \"password123\", \"user2\": \"letmein\"}  #eg logins\n",
    "auth_users = {}\n",
    "\n",
    "print(\"UDP Server is ready for connections...\")\n",
    "\n",
    "while True:\n",
    "    data, client_address = server_socket.recvfrom(2048)\n",
    "    message = data.decode()\n",
    "\n",
    "    if \",\" not in message: #trying to fix error\n",
    "        server_socket.sendto(\"Invalid format. Use 'username,password. \".encode(), client_address)\n",
    "        continue\n",
    "\n",
    "    if client_address not in auth_users:\n",
    "        username, password = message.split(',')\n",
    "        if username in logins and logins[username] == password:\n",
    "            auth_users[client_address] = username\n",
    "            server_socket.sendto(\"Auth successful\".encode(), client_address)\n",
    "        else:\n",
    "            server_socket.sendto(\"Auth failed\".encode(), client_address)\n",
    "            continue\n",
    "\n",
    "    print(f\"{auth_users[client_address]} ({client_address}): {message}\")"
   ]
  },
  {
   "cell_type": "code",
   "execution_count": null,
   "metadata": {},
   "outputs": [],
   "source": [
    "#reusing from week 2\n",
    "#for decrypt\n",
    "\n",
    "def caesar(message):\n",
    "    key = int(input(\"Key shift?: \"))\n",
    "\n",
    "    result = \"\"\n",
    "\n",
    "    for char in message:\n",
    "        if char.isalpha():\n",
    "                #this is server side so decrypt used here\n",
    "                result += chr((ord(char) - key - 65) % 26 + 65) if char.isupper() else chr((ord(char) - key - 97) % 26 + 97) #basically the same but - instead of + at beginning of conditional\n",
    "        else:\n",
    "            result += char\n",
    "\n",
    "    print(\"Result:\", result)\n",
    "\n",
    "caesar(message)"
   ]
  },
  {
   "cell_type": "code",
   "execution_count": null,
   "metadata": {},
   "outputs": [],
   "source": [
    "def caesar(message):\n",
    "    key = 3\n",
    "\n",
    "    result = \"\"\n",
    "\n",
    "    for char in message:\n",
    "        if char.isalpha():\n",
    "                result += chr((ord(char) + key - 65) % 26 + 65) if char.isupper() else chr((ord(char) + key - 97) % 26 + 97) #check if char is upper or lower then applys the correct base so upper is 65 and lower would be 97\n",
    "        else:\n",
    "            result += char\n",
    "\n",
    "    print(\"Result:\", result)\n",
    "\n",
    "#for encrypt"
   ]
  }
 ],
 "metadata": {
  "kernelspec": {
   "display_name": "dp4ai",
   "language": "python",
   "name": "python3"
  },
  "language_info": {
   "codemirror_mode": {
    "name": "ipython",
    "version": 3
   },
   "file_extension": ".py",
   "mimetype": "text/x-python",
   "name": "python",
   "nbconvert_exporter": "python",
   "pygments_lexer": "ipython3",
   "version": "3.12.5"
  }
 },
 "nbformat": 4,
 "nbformat_minor": 2
}
