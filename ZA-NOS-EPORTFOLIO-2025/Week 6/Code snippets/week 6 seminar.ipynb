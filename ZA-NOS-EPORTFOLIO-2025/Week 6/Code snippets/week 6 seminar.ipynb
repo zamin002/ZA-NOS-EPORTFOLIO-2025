{
 "cells": [
  {
   "cell_type": "code",
   "execution_count": 1,
   "metadata": {},
   "outputs": [
    {
     "name": "stdout",
     "output_type": "stream",
     "text": [
      "The IP address of gold.ac.uk is 159.100.136.66\n"
     ]
    }
   ],
   "source": [
    "#EXAMPLE CODE\n",
    "\n",
    "import socket\n",
    "\n",
    "def get_ip_address(website_url):\n",
    "    try:\n",
    "        ip_address = socket.gethostbyname(website_url)\n",
    "        print(f\"The IP address of {website_url} is {ip_address}\")\n",
    "    except socket.gaierror:\n",
    "        print(f\"Unable to get the IP address for {website_url}\")\n",
    "\n",
    "website = input(\"Enter the website URL (without 'https://'): \")\n",
    "get_ip_address(website)            \n",
    "\n",
    "# gov.uk IP = 151.101.192.144\n",
    "# google.com IP = 216.58.201.110\n",
    "# youtube.com IP = 172.217.169.14\n",
    "# gold.ac.uk = 159.100.136.66"
   ]
  },
  {
   "cell_type": "code",
   "execution_count": 2,
   "metadata": {},
   "outputs": [
    {
     "name": "stdout",
     "output_type": "stream",
     "text": [
      "Analysing Campus site\n",
      "Address: 159.100.136.66\n",
      "Network: 159.100.136.0/24\n",
      "Netmask: 255.255.255.0\n",
      "Number of Usable Hosts: 254\n",
      "Is private: False\n",
      "Is global: True\n",
      "Broadcast Address: 159.100.136.255\n",
      "First Usable Host: 159.100.136.1\n",
      "Last Usable Host: 159.100.136.254\n"
     ]
    }
   ],
   "source": [
    "import ipaddress\n",
    "\n",
    "def analyse_ip(ip_str):\n",
    "    # Create an IP interface object\n",
    "    ip = ipaddress.ip_interface(ip_str)\n",
    "\n",
    "    print(f\"Address: {ip.ip}\")\n",
    "    print(f\"Network: {ip.network}\")\n",
    "    print(f\"Netmask: {ip.netmask}\")\n",
    "    print(f\"Number of Usable Hosts: {ip.network.num_addresses - 2}\")  # Excluding network and broadcast\n",
    "    print(f\"Is private: {ip.ip.is_private}\")\n",
    "    print(f\"Is global: {ip.ip.is_global}\")\n",
    "    print(f\"Broadcast Address: {ip.network.broadcast_address}\") #task 1\n",
    "    print(f\"First Usable Host: {list(ip.network.hosts())[0]}\")\n",
    "    print(f\"Last Usable Host: {list(ip.network.hosts())[-1]}\")    \n",
    "\n",
    "    # List all hosts in the network (for small networks)\n",
    "    if ip.network.num_addresses < 256:\n",
    "        print(\"\\nHosts in network:\")\n",
    "        for host in ip.network.hosts():\n",
    "            print(host)\n",
    "\n",
    "print(\"Analysing Campus site\")\n",
    "analyse_ip('159.100.136.66/24')"
   ]
  },
  {
   "cell_type": "markdown",
   "metadata": {},
   "source": [
    "| Department | Network Address | Usable IP address range| Broadcast Address | Subnet mask |\n",
    "|------------|-----------------|------------------------|-------------------|-------------|\n",
    "| Engineering| 172.16.0.0/27 | 172.16.0.1 to 172.16.0.30 | 172.16.0.31 | 255.255.255.224|\n",
    "|Marketing\t| 172.16.0.32/28| 172.16.0.33 to 172.16.0.46 | 172.16.0.47| 255.255.255.240|\n",
    "|Finance\t|172.16.0.48/28\t|172.16.0.49 to 172.16.0.62\t|172.16.0.63\t|255.255.255.240\n",
    "|HR\t|172.16.0.64/29\t|172.16.0.65 to 172.16.0.70\t|172.16.0.71\t|255.255.255.248\n"
   ]
  },
  {
   "cell_type": "code",
   "execution_count": null,
   "metadata": {},
   "outputs": [
    {
     "name": "stdout",
     "output_type": "stream",
     "text": [
      "=== Simple DHCP Simulation ===\n",
      "\n",
      "[CLIENT] Step 1: Sending DHCP DISCOVER\n",
      "\n",
      "[SERVER] Step 2: Making DHCP OFFER\n",
      "\n",
      "[CLIENT] Step 3: Sending DHCP REQUEST\n",
      "\n",
      "[SERVER] Step 4: Sending DHCP ACK\n",
      "\n",
      "=== Result ===\n",
      "Client AA:BB:CC:DD:EE:FF got IP: 192.168.1.100\n",
      "Server leases: {'AA:BB:CC:DD:EE:FF': '192.168.1.100'}\n"
     ]
    }
   ],
   "source": [
    "# dhcp_simple.py - Simplified DHCP Simulator\n",
    "#EXAMPLE CODE\n",
    "\n",
    "#Server Configuration\n",
    "server = {\n",
    "    \"ip_pool\": [\"192.168.1.100\", \"192.168.1.101\", \"192.168.1.102\"],\n",
    "    \"leases\": {}\n",
    "}\n",
    "\n",
    "# Client Configuration\n",
    "client = {\n",
    "    \"mac\": \"AA:BB:CC:DD:EE:FF\",\n",
    "    \"ip\": None\n",
    "}\n",
    "\n",
    "#client sends DHCP DISCOVER\n",
    "def send_discover():\n",
    "    print(\"\\n[CLIENT] Step 1: Sending DHCP DISCOVER\")\n",
    "    return {\n",
    "        \"type\": \"DISCOVER\",\n",
    "        \"mac\": client[\"mac\"]\n",
    "    }\n",
    "\n",
    "#server responds with DHCP OFFER\n",
    "def make_offer(discover):\n",
    "    print(\"\\n[SERVER] Step 2: Making DHCP OFFER\")\n",
    "    if not server[\"ip_pool\"]:\n",
    "        print(\"No IPs available!\")\n",
    "        return None\n",
    "    offered_ip = server[\"ip_pool\"].pop(0)\n",
    "    return {\n",
    "        \"type\": \"OFFER\",\n",
    "        \"mac\": discover[\"mac\"],\n",
    "        \"ip\": offered_ip\n",
    "    }\n",
    "\n",
    "#client sends DHCP REQUEST\n",
    "def send_request(offer):\n",
    "    print(\"\\n[CLIENT] Step 3: Sending DHCP REQUEST\")\n",
    "    return {\n",
    "        \"type\": \"REQUEST\",\n",
    "        \"mac\": offer[\"mac\"],\n",
    "        \"ip\": offer[\"ip\"]\n",
    "    }\n",
    "\n",
    "#server sends DHCP ACK\n",
    "def send_ack(request):\n",
    "    print(\"\\n[SERVER] Step 4: Sending DHCP ACK\")\n",
    "    server[\"leases\"][request[\"mac\"]] = request[\"ip\"]\n",
    "    return {\n",
    "        \"type\": \"ACK\",\n",
    "        \"mac\": request[\"mac\"],\n",
    "        \"ip\": request[\"ip\"]\n",
    "    }\n",
    "\n",
    "# Main Function\n",
    "def main():\n",
    "    print(\"=== Simple DHCP Simulation ===\")\n",
    "    \n",
    "    # Client starts process\n",
    "    discover = send_discover()\n",
    "\n",
    "    # Server responds\n",
    "    offer = make_offer(discover)\n",
    "    if not offer:\n",
    "        return\n",
    "\n",
    "    # Client continues\n",
    "    request = send_request(offer)\n",
    "\n",
    "    # Server finalizes\n",
    "    ack = send_ack(request)\n",
    "\n",
    "    # Update client IP\n",
    "    client[\"ip\"] = ack[\"ip\"]\n",
    "\n",
    "    # Results\n",
    "    print(\"\\n=== Result ===\")\n",
    "    print(f\"Client {client['mac']} got IP: {client['ip']}\")\n",
    "    print(\"Server leases:\", server[\"leases\"])\n",
    "\n",
    "# Run the program\n",
    "if __name__ == \"__main__\":\n",
    "    main()\n"
   ]
  },
  {
   "cell_type": "code",
   "execution_count": null,
   "metadata": {},
   "outputs": [],
   "source": [
    "import socket\n",
    "import json\n",
    "\n",
    "server = {\n",
    "    \"ip_pool\": [\"192.168.1.100\", \"192.168.1.101\", \"192.168.1.102\"],\n",
    "    \"leases\": {}\n",
    "}\n",
    "\n",
    "#setting up server\n",
    "server_socket = socket.socket(socket.AF_INET, socket.SOCK_STREAM)\n",
    "server_socket.bind((\"localhost\", 65432))\n",
    "server_socket.listen()"
   ]
  }
 ],
 "metadata": {
  "kernelspec": {
   "display_name": "dp4ai",
   "language": "python",
   "name": "python3"
  },
  "language_info": {
   "codemirror_mode": {
    "name": "ipython",
    "version": 3
   },
   "file_extension": ".py",
   "mimetype": "text/x-python",
   "name": "python",
   "nbconvert_exporter": "python",
   "pygments_lexer": "ipython3",
   "version": "3.12.5"
  }
 },
 "nbformat": 4,
 "nbformat_minor": 2
}
