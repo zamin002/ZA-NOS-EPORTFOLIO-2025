{
 "cells": [
  {
   "cell_type": "code",
   "execution_count": null,
   "metadata": {},
   "outputs": [
    {
     "name": "stdout",
     "output_type": "stream",
     "text": [
      "9\n",
      "Largest value = 500\n",
      "4\n"
     ]
    }
   ],
   "source": [
    "def sum(a,b):\n",
    "    return a + b\n",
    "\n",
    "def largest_num(list):\n",
    "    largest = list[0]\n",
    "\n",
    "    for num in list:\n",
    "        if num > largest:\n",
    "            largest = num\n",
    "\n",
    "    return largest        \n",
    "\n",
    "def vowel_check(string):\n",
    "    vowels = [\"a\", \"e\", \"i\", \"o\", \"u\"]\n",
    "    count = 0\n",
    "    for char in string:\n",
    "        if char.lower() in vowels:\n",
    "            count += 1\n",
    "    return count\n",
    "\n",
    "\n",
    "print(sum(4,5))\n",
    "\n",
    "list = [1,5,7,10,500,2,4,100]\n",
    "print(\"Largest value =\", largest_num(list))\n",
    "\n",
    "print(vowel_check(\"Python is great\"))"
   ]
  },
  {
   "cell_type": "code",
   "execution_count": null,
   "metadata": {},
   "outputs": [],
   "source": [
    "def pass_checker(password):\n",
    "    special_char = [\"@\", \"#\", \"$\", \"!\", \".\", \"%\", \"£\", \"/\"]\n",
    "    errors = []\n",
    "    \n",
    "    if len(password) < 8:\n",
    "        errors.append(\"Password must be at least 8 characters long.\")\n",
    "    if not any(char.isupper() for char in password):\n",
    "        errors.append(\"Password must contain at least one uppercase letter.\")\n",
    "    if not any(char.islower() for char in password):\n",
    "        errors.append(\"Password must contain at least one lowercase letter.\")\n",
    "    if not any(char in special_char for char in password):\n",
    "        errors.append(\"Password must contain at least one special character (e.g. @, #, $, etc.).\")\n",
    "\n",
    "    if errors:\n",
    "        print(\"Password is weak:\")\n",
    "        for error in errors:\n",
    "            print(f\"- {error}\")\n",
    "    else:\n",
    "        print(\"Password is strong\")\n",
    "\n",
    "#eg\n",
    "pw = input(\"Enter your password: \")\n",
    "pass_checker(pw)\n"
   ]
  },
  {
   "cell_type": "code",
   "execution_count": null,
   "metadata": {},
   "outputs": [
    {
     "name": "stdout",
     "output_type": "stream",
     "text": [
      "Result: Khoor\n"
     ]
    }
   ],
   "source": [
    "def caesar(message):\n",
    "    mode = input(\"Encrypt or decrypt?: \").lower()\n",
    "    key = int(input(\"Key shift?: \"))\n",
    "\n",
    "    result = \"\"\n",
    "\n",
    "    for char in message:\n",
    "        if char.isalpha():\n",
    "            if mode == \"encrypt\" or mode == \"e\":\n",
    "                result += chr((ord(char) + key - 65) % 26 + 65) if char.isupper() else chr((ord(char) + key - 97) % 26 + 97) #check if char is upper or lower then applys the correct base so upper is 65 and lower would be 97\n",
    "            elif mode == \"decrypt\" or mode == \"d\":\n",
    "                result += chr((ord(char) - key - 65) % 26 + 65) if char.isupper() else chr((ord(char) - key - 97) % 26 + 97) #basically the same but - instead of + at beginning of conditional\n",
    "        else:\n",
    "            result += char\n",
    "\n",
    "    print(\"Result:\", result)\n",
    "\n",
    "message = \"Hello\"\n",
    "caesar(message)"
   ]
  },
  {
   "cell_type": "code",
   "execution_count": null,
   "metadata": {},
   "outputs": [
    {
     "name": "stdout",
     "output_type": "stream",
     "text": [
      "_ _ _ _ _ _ _ _ _ _\n",
      "_ a _ a _ _ _ _ _ _\n",
      "_ a v a _ _ _ _ _ _\n",
      "_ a v a s _ _ _ _ _\n",
      "_ a v a s c _ _ _ _\n",
      "j a v a s c _ _ _ _\n",
      "j a v a s c _ _ _ t\n",
      "j a v a s c r _ _ t\n",
      "j a v a s c r i _ t\n",
      "Congrats you guessed the word javascript\n"
     ]
    }
   ],
   "source": [
    "import random\n",
    "def hangman():\n",
    "    word_list = [\"python\", \"java\", \"javascript\"]\n",
    "    max_guesses = 6\n",
    "    count = 0\n",
    "    chosen = random.choice(word_list)\n",
    "    guessed_word = [\"_\"] * len(chosen) #display\n",
    "\n",
    "    while count < max_guesses and \"_\" in guessed_word:\n",
    "        print(\" \".join(guessed_word))\n",
    "        guess = input(\"Guess one of the letters: \").lower()\n",
    "\n",
    "        if guess in chosen:\n",
    "            for i in range(len(chosen)):\n",
    "                if chosen[i] == guess:\n",
    "                    guessed_word[i] = guess\n",
    "        else:\n",
    "            count += 1\n",
    "            print(f\"Incorrect. {max_guesses - count} guesses left.\")\n",
    "\n",
    "    if \"_\" not in guessed_word:\n",
    "        print(f\"Congrats you guessed the word {chosen}\")\n",
    "    else:\n",
    "        print(f\"Game over the word was {chosen}\")\n",
    "\n",
    "hangman()                                "
   ]
  }
 ],
 "metadata": {
  "kernelspec": {
   "display_name": "dp4ai",
   "language": "python",
   "name": "python3"
  },
  "language_info": {
   "codemirror_mode": {
    "name": "ipython",
    "version": 3
   },
   "file_extension": ".py",
   "mimetype": "text/x-python",
   "name": "python",
   "nbconvert_exporter": "python",
   "pygments_lexer": "ipython3",
   "version": "3.12.5"
  }
 },
 "nbformat": 4,
 "nbformat_minor": 2
}
